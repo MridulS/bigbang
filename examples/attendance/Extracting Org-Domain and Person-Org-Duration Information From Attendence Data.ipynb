{
 "cells": [
  {
   "cell_type": "markdown",
   "metadata": {},
   "source": [
    "# IETF Affiliations from Attendance Records"
   ]
  },
  {
   "cell_type": "code",
   "execution_count": 72,
   "metadata": {},
   "outputs": [],
   "source": [
    "import bigbang.domain as domain\n",
    "\n",
    "from ietfdata.datatracker     import *\n",
    "from ietfdata.datatracker_ext import *\n",
    "import pandas as pd\n",
    "import matplotlib.pyplot as plt\n",
    "import dataclasses"
   ]
  },
  {
   "cell_type": "markdown",
   "metadata": {},
   "source": [
    "## Getting generic email domains"
   ]
  },
  {
   "cell_type": "markdown",
   "metadata": {},
   "source": [
    "Will use these later..."
   ]
  },
  {
   "cell_type": "code",
   "execution_count": 73,
   "metadata": {},
   "outputs": [
    {
     "name": "stdout",
     "output_type": "stream",
     "text": [
      "--2021-11-30 13:44:00--  https://gist.githubusercontent.com/ammarshah/f5c2624d767f91a7cbdc4e54db8dd0bf/raw/660fd949eba09c0b86574d9d3aa0f2137161fc7c/all_email_provider_domains.txt\n",
      "Resolving gist.githubusercontent.com (gist.githubusercontent.com)... 185.199.108.133, 185.199.111.133, 185.199.110.133, ...\n",
      "Connecting to gist.githubusercontent.com (gist.githubusercontent.com)|185.199.108.133|:443... connected.\n",
      "HTTP request sent, awaiting response... 200 OK\n",
      "Length: 85116 (83K) [text/plain]\n",
      "Saving to: ‘all_email_provider_domains.txt.2’\n",
      "\n",
      "all_email_provider_ 100%[===================>]  83.12K   276KB/s    in 0.3s    \n",
      "\n",
      "2021-11-30 13:44:00 (276 KB/s) - ‘all_email_provider_domains.txt.2’ saved [85116/85116]\n",
      "\n"
     ]
    }
   ],
   "source": [
    "!wget https://gist.githubusercontent.com/ammarshah/f5c2624d767f91a7cbdc4e54db8dd0bf/raw/660fd949eba09c0b86574d9d3aa0f2137161fc7c/all_email_provider_domains.txt"
   ]
  },
  {
   "cell_type": "code",
   "execution_count": 78,
   "metadata": {},
   "outputs": [],
   "source": [
    "aepd = open(\"all_email_provider_domains.txt\").read().split(\"\\n\")"
   ]
  },
  {
   "cell_type": "markdown",
   "metadata": {},
   "source": [
    "## Getting attendence records from datatracker\n",
    "\n",
    "When attendees register for a meeting, the report their name, email address, and affiliation.\n",
    "\n",
    "While this is noisy data (any human-entered data is!), we will use this information to associate domains with affilations. E.g. the email domain `apple.com` is associated with the company Apple.\n",
    "\n",
    "We will also use this data to enrich our understanding of individual affiliations over time."
   ]
  },
  {
   "cell_type": "code",
   "execution_count": 2,
   "metadata": {},
   "outputs": [
    {
     "name": "stderr",
     "output_type": "stream",
     "text": [
      "INFO:ietfdata:glasgow-ietfdata/0.5.1 (cache disabled)\n"
     ]
    }
   ],
   "source": [
    "datatracker = DataTracker()\n",
    "\n",
    "meetings = datatracker.meetings(meeting_type = datatracker.meeting_type(MeetingTypeURI('/api/v1/name/meetingtypename/ietf/')))\n",
    "full_ietf_meetings = list(meetings)"
   ]
  },
  {
   "cell_type": "code",
   "execution_count": 3,
   "metadata": {},
   "outputs": [],
   "source": [
    "ietf_meetings = []\n",
    "for meeting in full_ietf_meetings:\n",
    "    meetingd = dataclasses.asdict(meeting)\n",
    "    meetingd['meeting_obj'] = meeting\n",
    "    meetingd['num'] = int(meeting.number)\n",
    "    ietf_meetings.append(meetingd)    "
   ]
  },
  {
   "cell_type": "code",
   "execution_count": 4,
   "metadata": {},
   "outputs": [],
   "source": [
    "meetings_df = pd.DataFrame.from_records(ietf_meetings)"
   ]
  },
  {
   "cell_type": "markdown",
   "metadata": {},
   "source": [
    "## Individual Affiliations"
   ]
  },
  {
   "cell_type": "code",
   "execution_count": 7,
   "metadata": {},
   "outputs": [
    {
     "name": "stderr",
     "output_type": "stream",
     "text": [
      "INFO:ietfdata:glasgow-ietfdata/0.5.1 (cache disabled)\n"
     ]
    }
   ],
   "source": [
    "dt = DataTrackerExt() # initialize, for all meeting registration downloads"
   ]
  },
  {
   "cell_type": "markdown",
   "metadata": {},
   "source": [
    "This will construct a dataframe of every attendee's registration at every specified meeting. (Downloading this data takes a while!)"
   ]
  },
  {
   "cell_type": "code",
   "execution_count": 12,
   "metadata": {},
   "outputs": [
    {
     "data": {
      "text/plain": [
       "datetime.datetime(2021, 7, 24, 0, 0)"
      ]
     },
     "execution_count": 12,
     "metadata": {},
     "output_type": "execute_result"
    }
   ],
   "source": [
    "ietf_meetings[110]['date']"
   ]
  },
  {
   "cell_type": "code",
   "execution_count": 108,
   "metadata": {},
   "outputs": [],
   "source": [
    "meeting_attendees_df = pd.DataFrame()\n",
    "for meeting in ietf_meetings:\n",
    "    if meeting['num'] in [104,105,106,107,108,109]: # can filter here by the meetings to analyze\n",
    "        registrations = dt.meeting_registrations(meeting=meeting['meeting_obj'])\n",
    "        df = pd.DataFrame.from_records([dataclasses.asdict(x) for x in list(registrations)])\n",
    "        df['num'] = meeting['num']\n",
    "        df['date'] = meeting['date']\n",
    "        df['domain'] = df['email'].apply(domain.extract_domain)\n",
    "        full_name = df['first_name'] + \" \" + df['last_name']\n",
    "        df['full_name'] = full_name\n",
    "        meeting_attendees_df = meeting_attendees_df.append(df)"
   ]
  },
  {
   "cell_type": "markdown",
   "metadata": {},
   "source": [
    "Filter by those who actually attended the meeting (checked in, didn't just register)."
   ]
  },
  {
   "cell_type": "code",
   "execution_count": 109,
   "metadata": {},
   "outputs": [],
   "source": [
    "ind_affiliation = meeting_attendees_df[['full_name', 'affiliation', 'email', 'domain','date']]"
   ]
  },
  {
   "cell_type": "markdown",
   "metadata": {},
   "source": [
    "This format of data -- with name, email, affiliation, and a timestamp -- can also be extracted from other IETF data, such as the RFC submission metadata. Later, we will use data of this form to infer _duration_ of affilation for IETF attendees."
   ]
  },
  {
   "cell_type": "code",
   "execution_count": 110,
   "metadata": {},
   "outputs": [
    {
     "data": {
      "text/html": [
       "<div>\n",
       "<style scoped>\n",
       "    .dataframe tbody tr th:only-of-type {\n",
       "        vertical-align: middle;\n",
       "    }\n",
       "\n",
       "    .dataframe tbody tr th {\n",
       "        vertical-align: top;\n",
       "    }\n",
       "\n",
       "    .dataframe thead th {\n",
       "        text-align: right;\n",
       "    }\n",
       "</style>\n",
       "<table border=\"1\" class=\"dataframe\">\n",
       "  <thead>\n",
       "    <tr style=\"text-align: right;\">\n",
       "      <th></th>\n",
       "      <th>full_name</th>\n",
       "      <th>affiliation</th>\n",
       "      <th>email</th>\n",
       "      <th>domain</th>\n",
       "      <th>date</th>\n",
       "    </tr>\n",
       "  </thead>\n",
       "  <tbody>\n",
       "    <tr>\n",
       "      <th>0</th>\n",
       "      <td>Thomas Pauly</td>\n",
       "      <td>Apple</td>\n",
       "      <td>tpauly@apple.com</td>\n",
       "      <td>apple.com</td>\n",
       "      <td>2019-03-23</td>\n",
       "    </tr>\n",
       "    <tr>\n",
       "      <th>1</th>\n",
       "      <td>Eric Kinnear</td>\n",
       "      <td>Apple</td>\n",
       "      <td>ekinnear@apple.com</td>\n",
       "      <td>apple.com</td>\n",
       "      <td>2019-03-23</td>\n",
       "    </tr>\n",
       "    <tr>\n",
       "      <th>2</th>\n",
       "      <td>Jordi Palet Martinez</td>\n",
       "      <td>Moremar</td>\n",
       "      <td>jordi.palet@consulintel.es</td>\n",
       "      <td>consulintel.es</td>\n",
       "      <td>2019-03-23</td>\n",
       "    </tr>\n",
       "    <tr>\n",
       "      <th>3</th>\n",
       "      <td>Heather Flanagan</td>\n",
       "      <td>RFC Editor</td>\n",
       "      <td>rse@rfc-editor.org</td>\n",
       "      <td>rfc-editor.org</td>\n",
       "      <td>2019-03-23</td>\n",
       "    </tr>\n",
       "    <tr>\n",
       "      <th>4</th>\n",
       "      <td>Kyle Rose</td>\n",
       "      <td>Akamai Technologies</td>\n",
       "      <td>krose@krose.org</td>\n",
       "      <td>krose.org</td>\n",
       "      <td>2019-03-23</td>\n",
       "    </tr>\n",
       "    <tr>\n",
       "      <th>5</th>\n",
       "      <td>Aaron Falk</td>\n",
       "      <td>Akamai</td>\n",
       "      <td>aaron.falk@gmail.com</td>\n",
       "      <td>gmail.com</td>\n",
       "      <td>2019-03-23</td>\n",
       "    </tr>\n",
       "    <tr>\n",
       "      <th>6</th>\n",
       "      <td>Russ Housley</td>\n",
       "      <td>Vigil Security, LLC</td>\n",
       "      <td>housley@vigilsec.com</td>\n",
       "      <td>vigilsec.com</td>\n",
       "      <td>2019-03-23</td>\n",
       "    </tr>\n",
       "    <tr>\n",
       "      <th>7</th>\n",
       "      <td>Jason Livingood</td>\n",
       "      <td>Comcast // IASA 2.0 WG</td>\n",
       "      <td>Jason_Livingood@comcast.com</td>\n",
       "      <td>comcast.com</td>\n",
       "      <td>2019-03-23</td>\n",
       "    </tr>\n",
       "    <tr>\n",
       "      <th>8</th>\n",
       "      <td>Jeff Osborn</td>\n",
       "      <td>Internet Systems Consortium</td>\n",
       "      <td>jeff@isc.org</td>\n",
       "      <td>isc.org</td>\n",
       "      <td>2019-03-23</td>\n",
       "    </tr>\n",
       "    <tr>\n",
       "      <th>9</th>\n",
       "      <td>Mahesh Jethanandani</td>\n",
       "      <td>VMware</td>\n",
       "      <td>mjethanandani@gmail.com</td>\n",
       "      <td>gmail.com</td>\n",
       "      <td>2019-03-23</td>\n",
       "    </tr>\n",
       "  </tbody>\n",
       "</table>\n",
       "</div>"
      ],
      "text/plain": [
       "              full_name                  affiliation  \\\n",
       "0          Thomas Pauly                        Apple   \n",
       "1          Eric Kinnear                        Apple   \n",
       "2  Jordi Palet Martinez                      Moremar   \n",
       "3      Heather Flanagan                   RFC Editor   \n",
       "4             Kyle Rose          Akamai Technologies   \n",
       "5            Aaron Falk                       Akamai   \n",
       "6          Russ Housley          Vigil Security, LLC   \n",
       "7       Jason Livingood       Comcast // IASA 2.0 WG   \n",
       "8           Jeff Osborn  Internet Systems Consortium   \n",
       "9   Mahesh Jethanandani                       VMware   \n",
       "\n",
       "                         email          domain       date  \n",
       "0             tpauly@apple.com       apple.com 2019-03-23  \n",
       "1           ekinnear@apple.com       apple.com 2019-03-23  \n",
       "2   jordi.palet@consulintel.es  consulintel.es 2019-03-23  \n",
       "3           rse@rfc-editor.org  rfc-editor.org 2019-03-23  \n",
       "4              krose@krose.org       krose.org 2019-03-23  \n",
       "5         aaron.falk@gmail.com       gmail.com 2019-03-23  \n",
       "6         housley@vigilsec.com    vigilsec.com 2019-03-23  \n",
       "7  Jason_Livingood@comcast.com     comcast.com 2019-03-23  \n",
       "8                 jeff@isc.org         isc.org 2019-03-23  \n",
       "9      mjethanandani@gmail.com       gmail.com 2019-03-23  "
      ]
     },
     "execution_count": 110,
     "metadata": {},
     "output_type": "execute_result"
    }
   ],
   "source": [
    "ind_affiliation[:10]"
   ]
  },
  {
   "cell_type": "markdown",
   "metadata": {},
   "source": [
    "## Matching affiliations with domains"
   ]
  },
  {
   "cell_type": "code",
   "execution_count": 111,
   "metadata": {},
   "outputs": [],
   "source": [
    "affil_domain = ind_affiliation[['affiliation', 'domain', 'email']].pivot_table(\n",
    "    index='affiliation',columns='domain', values='email', aggfunc = 'count')"
   ]
  },
  {
   "cell_type": "code",
   "execution_count": 112,
   "metadata": {},
   "outputs": [],
   "source": [
    "generic_email_domains = set(affil_domain.columns).intersection(set(aepd))"
   ]
  },
  {
   "cell_type": "code",
   "execution_count": 113,
   "metadata": {},
   "outputs": [],
   "source": [
    "affil_domain.drop(generic_email_domains, axis = 1, inplace = True)"
   ]
  },
  {
   "cell_type": "code",
   "execution_count": 116,
   "metadata": {},
   "outputs": [],
   "source": [
    "ad_max = affil_domain.apply(lambda row: row.max(), axis=1)\n",
    "ad_mean = affil_domain.apply(lambda row: row.dropna().mean(), axis=1)\n",
    "ad_count = affil_domain.apply(lambda row: row.dropna().count(), axis=1)\n",
    "\n",
    "ad_max_domain = affil_domain.apply(lambda row: row.idxmax(), axis=1)\n",
    "\n",
    "## Add the columns *after* computing the statistics!\n",
    "affil_domain['max'] = ad_max\n",
    "affil_domain['mean'] = ad_mean\n",
    "affil_domain['count'] = ad_count\n",
    "affil_domain['max_domain'] = ad_max_domain"
   ]
  },
  {
   "cell_type": "code",
   "execution_count": 117,
   "metadata": {},
   "outputs": [],
   "source": [
    "ad_stats = affil_domain[['max_domain','max','count','mean']].sort_values('max', ascending=False)"
   ]
  },
  {
   "cell_type": "code",
   "execution_count": 118,
   "metadata": {},
   "outputs": [
    {
     "data": {
      "text/html": [
       "<div>\n",
       "<style scoped>\n",
       "    .dataframe tbody tr th:only-of-type {\n",
       "        vertical-align: middle;\n",
       "    }\n",
       "\n",
       "    .dataframe tbody tr th {\n",
       "        vertical-align: top;\n",
       "    }\n",
       "\n",
       "    .dataframe thead th {\n",
       "        text-align: right;\n",
       "    }\n",
       "</style>\n",
       "<table border=\"1\" class=\"dataframe\">\n",
       "  <thead>\n",
       "    <tr style=\"text-align: right;\">\n",
       "      <th>domain</th>\n",
       "      <th>max_domain</th>\n",
       "      <th>max</th>\n",
       "      <th>count</th>\n",
       "      <th>mean</th>\n",
       "    </tr>\n",
       "    <tr>\n",
       "      <th>affiliation</th>\n",
       "      <th></th>\n",
       "      <th></th>\n",
       "      <th></th>\n",
       "      <th></th>\n",
       "    </tr>\n",
       "  </thead>\n",
       "  <tbody>\n",
       "    <tr>\n",
       "      <th>Huawei</th>\n",
       "      <td>huawei.com</td>\n",
       "      <td>132.0</td>\n",
       "      <td>4</td>\n",
       "      <td>33.750000</td>\n",
       "    </tr>\n",
       "    <tr>\n",
       "      <th>Cisco</th>\n",
       "      <td>cisco.com</td>\n",
       "      <td>126.0</td>\n",
       "      <td>6</td>\n",
       "      <td>23.166667</td>\n",
       "    </tr>\n",
       "    <tr>\n",
       "      <th>Cisco Systems</th>\n",
       "      <td>cisco.com</td>\n",
       "      <td>124.0</td>\n",
       "      <td>3</td>\n",
       "      <td>42.666667</td>\n",
       "    </tr>\n",
       "    <tr>\n",
       "      <th>Ericsson</th>\n",
       "      <td>ericsson.com</td>\n",
       "      <td>103.0</td>\n",
       "      <td>8</td>\n",
       "      <td>15.625000</td>\n",
       "    </tr>\n",
       "    <tr>\n",
       "      <th>Juniper Networks</th>\n",
       "      <td>juniper.net</td>\n",
       "      <td>97.0</td>\n",
       "      <td>2</td>\n",
       "      <td>49.500000</td>\n",
       "    </tr>\n",
       "    <tr>\n",
       "      <th>...</th>\n",
       "      <td>...</td>\n",
       "      <td>...</td>\n",
       "      <td>...</td>\n",
       "      <td>...</td>\n",
       "    </tr>\n",
       "    <tr>\n",
       "      <th>Telefonica</th>\n",
       "      <td>telefonica.com</td>\n",
       "      <td>7.0</td>\n",
       "      <td>1</td>\n",
       "      <td>7.000000</td>\n",
       "    </tr>\n",
       "    <tr>\n",
       "      <th>TU Berlin</th>\n",
       "      <td>inet.tu-berlin.de</td>\n",
       "      <td>7.0</td>\n",
       "      <td>3</td>\n",
       "      <td>3.000000</td>\n",
       "    </tr>\n",
       "    <tr>\n",
       "      <th>Broadcom</th>\n",
       "      <td>broadcom.com</td>\n",
       "      <td>7.0</td>\n",
       "      <td>1</td>\n",
       "      <td>7.000000</td>\n",
       "    </tr>\n",
       "    <tr>\n",
       "      <th>Netflix</th>\n",
       "      <td>netflix.com</td>\n",
       "      <td>7.0</td>\n",
       "      <td>3</td>\n",
       "      <td>3.000000</td>\n",
       "    </tr>\n",
       "    <tr>\n",
       "      <th>ZTE Corporation</th>\n",
       "      <td>zte.com.cn</td>\n",
       "      <td>7.0</td>\n",
       "      <td>1</td>\n",
       "      <td>7.000000</td>\n",
       "    </tr>\n",
       "  </tbody>\n",
       "</table>\n",
       "<p>100 rows × 4 columns</p>\n",
       "</div>"
      ],
      "text/plain": [
       "domain                   max_domain    max  count       mean\n",
       "affiliation                                                 \n",
       "Huawei                   huawei.com  132.0      4  33.750000\n",
       "Cisco                     cisco.com  126.0      6  23.166667\n",
       "Cisco Systems             cisco.com  124.0      3  42.666667\n",
       "Ericsson               ericsson.com  103.0      8  15.625000\n",
       "Juniper Networks        juniper.net   97.0      2  49.500000\n",
       "...                             ...    ...    ...        ...\n",
       "Telefonica           telefonica.com    7.0      1   7.000000\n",
       "TU Berlin         inet.tu-berlin.de    7.0      3   3.000000\n",
       "Broadcom               broadcom.com    7.0      1   7.000000\n",
       "Netflix                 netflix.com    7.0      3   3.000000\n",
       "ZTE Corporation          zte.com.cn    7.0      1   7.000000\n",
       "\n",
       "[100 rows x 4 columns]"
      ]
     },
     "execution_count": 118,
     "metadata": {},
     "output_type": "execute_result"
    }
   ],
   "source": [
    "ad_stats[:100]"
   ]
  },
  {
   "cell_type": "code",
   "execution_count": 119,
   "metadata": {},
   "outputs": [],
   "source": [
    "ad_stats[:100].to_csv(\"affiliation_domain_stats.csv\")"
   ]
  },
  {
   "cell_type": "markdown",
   "metadata": {},
   "source": [
    "## Duration of affiliation\n",
    "\n",
    "The current data we have for individual affiliations is \"point\" data, reflecting the affiliation of an individual on a particular date.\n",
    "\n",
    "For many kinds of analysis, we may want to understand the full duration for which an individual has been associated with an organization. This requires an inference from the available data points to dates that are not explicitly represented in the data.\n",
    "\n",
    "For now, we will use a rather simple form of inference: filling in any missing data from the last (temporally) known data point. And then if there's still missing data, infer backwards."
   ]
  },
  {
   "cell_type": "code",
   "execution_count": 134,
   "metadata": {},
   "outputs": [],
   "source": [
    "affil_dates = ind_affiliation.pivot_table(\n",
    "    index=\"date\",\n",
    "    columns=\"full_name\",\n",
    "    values=\"affiliation\",\n",
    "    aggfunc=\"first\"\n",
    ").fillna(method='ffill').fillna(method='bfill')"
   ]
  },
  {
   "cell_type": "code",
   "execution_count": 147,
   "metadata": {},
   "outputs": [],
   "source": [
    "top_attendees = ind_affiliation.groupby('full_name')['date'].count().sort_values(ascending=False)[:40].index"
   ]
  },
  {
   "cell_type": "code",
   "execution_count": 148,
   "metadata": {},
   "outputs": [
    {
     "data": {
      "text/plain": [
       "Index(['Ignas Bagdonas', 'Martin Duke', 'Gert Grammel', 'Roni Even',\n",
       "       'Linda Dunbar', 'Toerless Eckert', 'Richard Barnes', 'Kohei Isobe',\n",
       "       'Yutaka OIWA', 'Jonathan Lennox', 'Jim Reid', 'Ronald in 't Velt',\n",
       "       'Gonzalo Camarillo', 'Paul Ebersman', 'Martin Thomson',\n",
       "       'Marten Seemann', 'Glenn Deen', 'Martin Vigoureux', 'Paul Congdon',\n",
       "       'Tianran Zhou', 'Ramesh Sivakolundu', 'Tero Kivinen', 'Markus Amend',\n",
       "       'Ted Hardie', 'Chris Bowers', 'Tal Mizrahi', 'Takuya Miyasaka',\n",
       "       'Chonggang Wang', 'Dominique Lazanski', 'Gorry Fairhurst',\n",
       "       'Dino Farinacci', 'Tadahiko Ito', 'Suzanne Woolf', 'Susan Hares',\n",
       "       'Suresh Krishnan', 'Matthew Ford', 'Dieter Sibold', 'Mark Nottingham',\n",
       "       'Paul Hoffman', 'Marcus Ihlar'],\n",
       "      dtype='object', name='full_name')"
      ]
     },
     "execution_count": 148,
     "metadata": {},
     "output_type": "execute_result"
    }
   ],
   "source": [
    "top_attendees"
   ]
  },
  {
   "cell_type": "code",
   "execution_count": 149,
   "metadata": {},
   "outputs": [
    {
     "data": {
      "text/html": [
       "<div>\n",
       "<style scoped>\n",
       "    .dataframe tbody tr th:only-of-type {\n",
       "        vertical-align: middle;\n",
       "    }\n",
       "\n",
       "    .dataframe tbody tr th {\n",
       "        vertical-align: top;\n",
       "    }\n",
       "\n",
       "    .dataframe thead th {\n",
       "        text-align: right;\n",
       "    }\n",
       "</style>\n",
       "<table border=\"1\" class=\"dataframe\">\n",
       "  <thead>\n",
       "    <tr style=\"text-align: right;\">\n",
       "      <th>full_name</th>\n",
       "      <th>Ignas Bagdonas</th>\n",
       "      <th>Martin Duke</th>\n",
       "      <th>Gert Grammel</th>\n",
       "      <th>Roni Even</th>\n",
       "      <th>Linda Dunbar</th>\n",
       "      <th>Toerless Eckert</th>\n",
       "      <th>Richard Barnes</th>\n",
       "      <th>Kohei Isobe</th>\n",
       "      <th>Yutaka OIWA</th>\n",
       "      <th>Jonathan Lennox</th>\n",
       "      <th>...</th>\n",
       "      <th>Dino Farinacci</th>\n",
       "      <th>Tadahiko Ito</th>\n",
       "      <th>Suzanne Woolf</th>\n",
       "      <th>Susan Hares</th>\n",
       "      <th>Suresh Krishnan</th>\n",
       "      <th>Matthew Ford</th>\n",
       "      <th>Dieter Sibold</th>\n",
       "      <th>Mark Nottingham</th>\n",
       "      <th>Paul Hoffman</th>\n",
       "      <th>Marcus Ihlar</th>\n",
       "    </tr>\n",
       "    <tr>\n",
       "      <th>date</th>\n",
       "      <th></th>\n",
       "      <th></th>\n",
       "      <th></th>\n",
       "      <th></th>\n",
       "      <th></th>\n",
       "      <th></th>\n",
       "      <th></th>\n",
       "      <th></th>\n",
       "      <th></th>\n",
       "      <th></th>\n",
       "      <th></th>\n",
       "      <th></th>\n",
       "      <th></th>\n",
       "      <th></th>\n",
       "      <th></th>\n",
       "      <th></th>\n",
       "      <th></th>\n",
       "      <th></th>\n",
       "      <th></th>\n",
       "      <th></th>\n",
       "      <th></th>\n",
       "    </tr>\n",
       "  </thead>\n",
       "  <tbody>\n",
       "    <tr>\n",
       "      <th>2019-03-23</th>\n",
       "      <td>Equinix</td>\n",
       "      <td>F5 Networks, Inc.</td>\n",
       "      <td>Juniper</td>\n",
       "      <td>Huawei Technologies</td>\n",
       "      <td>Futurewei</td>\n",
       "      <td>Huawei USA</td>\n",
       "      <td>Cisco</td>\n",
       "      <td>SECOM</td>\n",
       "      <td></td>\n",
       "      <td>Vidyo</td>\n",
       "      <td>...</td>\n",
       "      <td></td>\n",
       "      <td></td>\n",
       "      <td></td>\n",
       "      <td></td>\n",
       "      <td>Kaloom</td>\n",
       "      <td>Internet Society</td>\n",
       "      <td>PTB</td>\n",
       "      <td></td>\n",
       "      <td>ICANN</td>\n",
       "      <td>Ericsson</td>\n",
       "    </tr>\n",
       "    <tr>\n",
       "      <th>2019-07-20</th>\n",
       "      <td>Equinix</td>\n",
       "      <td>F5 Networks, Inc.</td>\n",
       "      <td>Juniper Networks</td>\n",
       "      <td>Toga Networks</td>\n",
       "      <td>Futurewei</td>\n",
       "      <td>Futurewei Technologies USA</td>\n",
       "      <td>Cisco</td>\n",
       "      <td>SECOM</td>\n",
       "      <td>AIST Japan / 産業技術総合研究所</td>\n",
       "      <td>8x8</td>\n",
       "      <td>...</td>\n",
       "      <td>lispers.net</td>\n",
       "      <td>SECOM</td>\n",
       "      <td>Public Interest Registry (.org)</td>\n",
       "      <td></td>\n",
       "      <td>Kaloom</td>\n",
       "      <td>Internet Society (ISOC)</td>\n",
       "      <td>PTB</td>\n",
       "      <td>Fastly</td>\n",
       "      <td>ICANN</td>\n",
       "      <td>Ericsson</td>\n",
       "    </tr>\n",
       "    <tr>\n",
       "      <th>2019-11-16</th>\n",
       "      <td>Equinix</td>\n",
       "      <td>F5 Networks, Inc.</td>\n",
       "      <td>Juniper</td>\n",
       "      <td>Toga Networks</td>\n",
       "      <td>Futurewei</td>\n",
       "      <td>Futurewei USA</td>\n",
       "      <td>Cisco</td>\n",
       "      <td>SECOM</td>\n",
       "      <td>AIST Japan</td>\n",
       "      <td>8x8 / Jitsi</td>\n",
       "      <td>...</td>\n",
       "      <td></td>\n",
       "      <td>SECOM</td>\n",
       "      <td>Public Interest Registry (.org)</td>\n",
       "      <td></td>\n",
       "      <td>Kaloom</td>\n",
       "      <td>Internet Society</td>\n",
       "      <td>PTB</td>\n",
       "      <td>Fastly</td>\n",
       "      <td>ICANN</td>\n",
       "      <td>Ericsson</td>\n",
       "    </tr>\n",
       "    <tr>\n",
       "      <th>2020-03-21</th>\n",
       "      <td>Equinix</td>\n",
       "      <td>F5 Networks</td>\n",
       "      <td>Juniper</td>\n",
       "      <td>Toga Networks</td>\n",
       "      <td></td>\n",
       "      <td>Futurewei USA</td>\n",
       "      <td>Cisco</td>\n",
       "      <td>SECOM</td>\n",
       "      <td>AIST Japan</td>\n",
       "      <td>8x8 / Jitsi</td>\n",
       "      <td>...</td>\n",
       "      <td>lispers.net</td>\n",
       "      <td></td>\n",
       "      <td>Public Interest Registry (.org)</td>\n",
       "      <td></td>\n",
       "      <td>Kaloom</td>\n",
       "      <td>Internet Society</td>\n",
       "      <td></td>\n",
       "      <td>Fastly</td>\n",
       "      <td>ICANN</td>\n",
       "      <td>Ericsson</td>\n",
       "    </tr>\n",
       "    <tr>\n",
       "      <th>2020-07-25</th>\n",
       "      <td>Equinix</td>\n",
       "      <td>F5 Networks, Inc.</td>\n",
       "      <td>Juniper</td>\n",
       "      <td></td>\n",
       "      <td>Futurewei</td>\n",
       "      <td>Futurewei USA</td>\n",
       "      <td>Cisco</td>\n",
       "      <td>SECOM</td>\n",
       "      <td>AIST Japan</td>\n",
       "      <td></td>\n",
       "      <td>...</td>\n",
       "      <td>lispers.net</td>\n",
       "      <td>SECOM CO., LTD.</td>\n",
       "      <td>Public Interest Registry (.ORG)</td>\n",
       "      <td>Huawei</td>\n",
       "      <td>Kaloom</td>\n",
       "      <td>Internet Society</td>\n",
       "      <td>PTB</td>\n",
       "      <td>Fastly</td>\n",
       "      <td>ICANN</td>\n",
       "      <td>Ericsson</td>\n",
       "    </tr>\n",
       "    <tr>\n",
       "      <th>2020-11-14</th>\n",
       "      <td>Equinix</td>\n",
       "      <td>F5 Networks, Inc.</td>\n",
       "      <td>Juniper</td>\n",
       "      <td></td>\n",
       "      <td>Futurewei</td>\n",
       "      <td>Futurewei USA</td>\n",
       "      <td>Cisco</td>\n",
       "      <td>SECOM</td>\n",
       "      <td>AIST Japan</td>\n",
       "      <td>8x8 / Jitsi</td>\n",
       "      <td>...</td>\n",
       "      <td>lispers.net</td>\n",
       "      <td>SECOM</td>\n",
       "      <td>Public Interest Registry (PIR)</td>\n",
       "      <td>Hickory Hill Consulting</td>\n",
       "      <td>Kaloom</td>\n",
       "      <td>Internet Society (ISOC)</td>\n",
       "      <td>PTB</td>\n",
       "      <td>Fastly</td>\n",
       "      <td>ICANN</td>\n",
       "      <td>Ericsson</td>\n",
       "    </tr>\n",
       "  </tbody>\n",
       "</table>\n",
       "<p>6 rows × 40 columns</p>\n",
       "</div>"
      ],
      "text/plain": [
       "full_name  Ignas Bagdonas        Martin Duke      Gert Grammel  \\\n",
       "date                                                             \n",
       "2019-03-23        Equinix  F5 Networks, Inc.           Juniper   \n",
       "2019-07-20        Equinix  F5 Networks, Inc.  Juniper Networks   \n",
       "2019-11-16        Equinix  F5 Networks, Inc.           Juniper   \n",
       "2020-03-21        Equinix        F5 Networks           Juniper   \n",
       "2020-07-25        Equinix  F5 Networks, Inc.           Juniper   \n",
       "2020-11-14        Equinix  F5 Networks, Inc.           Juniper   \n",
       "\n",
       "full_name             Roni Even Linda Dunbar             Toerless Eckert  \\\n",
       "date                                                                       \n",
       "2019-03-23  Huawei Technologies    Futurewei                  Huawei USA   \n",
       "2019-07-20        Toga Networks    Futurewei  Futurewei Technologies USA   \n",
       "2019-11-16        Toga Networks    Futurewei               Futurewei USA   \n",
       "2020-03-21        Toga Networks                            Futurewei USA   \n",
       "2020-07-25                         Futurewei               Futurewei USA   \n",
       "2020-11-14                         Futurewei               Futurewei USA   \n",
       "\n",
       "full_name  Richard Barnes Kohei Isobe             Yutaka OIWA Jonathan Lennox  \\\n",
       "date                                                                            \n",
       "2019-03-23          Cisco       SECOM                                   Vidyo   \n",
       "2019-07-20          Cisco       SECOM  AIST Japan / 産業技術総合研究所             8x8   \n",
       "2019-11-16          Cisco       SECOM              AIST Japan     8x8 / Jitsi   \n",
       "2020-03-21          Cisco       SECOM              AIST Japan     8x8 / Jitsi   \n",
       "2020-07-25          Cisco       SECOM              AIST Japan                   \n",
       "2020-11-14          Cisco       SECOM              AIST Japan     8x8 / Jitsi   \n",
       "\n",
       "full_name   ... Dino Farinacci     Tadahiko Ito  \\\n",
       "date        ...                                   \n",
       "2019-03-23  ...                                   \n",
       "2019-07-20  ...    lispers.net            SECOM   \n",
       "2019-11-16  ...                           SECOM   \n",
       "2020-03-21  ...    lispers.net                    \n",
       "2020-07-25  ...    lispers.net  SECOM CO., LTD.   \n",
       "2020-11-14  ...    lispers.net            SECOM   \n",
       "\n",
       "full_name                     Suzanne Woolf              Susan Hares  \\\n",
       "date                                                                   \n",
       "2019-03-23                                                             \n",
       "2019-07-20  Public Interest Registry (.org)                            \n",
       "2019-11-16  Public Interest Registry (.org)                            \n",
       "2020-03-21  Public Interest Registry (.org)                            \n",
       "2020-07-25  Public Interest Registry (.ORG)                   Huawei   \n",
       "2020-11-14   Public Interest Registry (PIR)  Hickory Hill Consulting   \n",
       "\n",
       "full_name  Suresh Krishnan             Matthew Ford Dieter Sibold  \\\n",
       "date                                                                \n",
       "2019-03-23          Kaloom         Internet Society           PTB   \n",
       "2019-07-20          Kaloom  Internet Society (ISOC)           PTB   \n",
       "2019-11-16          Kaloom         Internet Society           PTB   \n",
       "2020-03-21          Kaloom         Internet Society                 \n",
       "2020-07-25          Kaloom         Internet Society           PTB   \n",
       "2020-11-14          Kaloom  Internet Society (ISOC)           PTB   \n",
       "\n",
       "full_name  Mark Nottingham Paul Hoffman Marcus Ihlar  \n",
       "date                                                  \n",
       "2019-03-23                        ICANN     Ericsson  \n",
       "2019-07-20          Fastly        ICANN     Ericsson  \n",
       "2019-11-16          Fastly        ICANN     Ericsson  \n",
       "2020-03-21          Fastly        ICANN     Ericsson  \n",
       "2020-07-25          Fastly        ICANN     Ericsson  \n",
       "2020-11-14          Fastly        ICANN     Ericsson  \n",
       "\n",
       "[6 rows x 40 columns]"
      ]
     },
     "execution_count": 149,
     "metadata": {},
     "output_type": "execute_result"
    }
   ],
   "source": [
    "affil_dates[top_attendees]"
   ]
  },
  {
   "cell_type": "code",
   "execution_count": 150,
   "metadata": {},
   "outputs": [],
   "source": [
    "affil_dates[top_attendees].to_csv(\"inferred_affiliation_dates.csv\")"
   ]
  },
  {
   "cell_type": "code",
   "execution_count": null,
   "metadata": {},
   "outputs": [],
   "source": []
  }
 ],
 "metadata": {
  "kernelspec": {
   "display_name": "bigbang-env",
   "language": "python",
   "name": "bigbang-env"
  },
  "language_info": {
   "codemirror_mode": {
    "name": "ipython",
    "version": 3
   },
   "file_extension": ".py",
   "mimetype": "text/x-python",
   "name": "python",
   "nbconvert_exporter": "python",
   "pygments_lexer": "ipython3",
   "version": "3.9.5"
  },
  "latex_envs": {
   "LaTeX_envs_menu_present": true,
   "autoclose": false,
   "autocomplete": true,
   "bibliofile": "biblio.bib",
   "cite_by": "apalike",
   "current_citInitial": 1,
   "eqLabelWithNumbers": true,
   "eqNumInitial": 1,
   "hotkeys": {
    "equation": "Ctrl-E",
    "itemize": "Ctrl-I"
   },
   "labels_anchors": false,
   "latex_user_defs": false,
   "report_style_numbering": false,
   "user_envs_cfg": false
  },
  "toc": {
   "base_numbering": 1,
   "nav_menu": {},
   "number_sections": true,
   "sideBar": true,
   "skip_h1_title": false,
   "title_cell": "Table of Contents",
   "title_sidebar": "Contents",
   "toc_cell": false,
   "toc_position": {},
   "toc_section_display": true,
   "toc_window_display": false
  }
 },
 "nbformat": 4,
 "nbformat_minor": 2
}
