{
 "cells": [
  {
   "cell_type": "markdown",
   "id": "lined-broadcast",
   "metadata": {},
   "source": [
    "# Classifying Email Domains\n",
    "\n",
    "This notebook explores the possibility of classifying email domains based on the characteristics of their activity distribution."
   ]
  },
  {
   "cell_type": "code",
   "execution_count": 1,
   "id": "threatened-aurora",
   "metadata": {},
   "outputs": [],
   "source": [
    "from bigbang.archive import Archive\n",
    "from config.config import CONFIG\n",
    "import bigbang.datasets.domains.domains as domains\n",
    "import bigbang.domain as domain\n",
    "import numpy as np\n",
    "import os\n",
    "import pandas as pd\n",
    "import re\n",
    "import seaborn as sns"
   ]
  },
  {
   "cell_type": "code",
   "execution_count": 2,
   "id": "varied-computer",
   "metadata": {},
   "outputs": [],
   "source": [
    "import powerlaw\n"
   ]
  },
  {
   "cell_type": "markdown",
   "id": "delayed-reasoning",
   "metadata": {},
   "source": [
    "# Domain categories\n",
    "\n",
    "This is data about known domain categories.\n",
    "\n",
    " * **Generic hosts**. Generic providers of email addresses. See https://github.com/edwin-zvs/email-providers\n",
    " * **Personal**. Email domains set up for use by an individual or a very small company.\n",
    " * **Companies**. An email domain used by the employees of a large corporation.\n",
    " * **Internet Governance**. Email domains associated with an Internet Governance body.\n",
    " * **Academia**. Email domains associated with an university, research lab, or professional research organization."
   ]
  },
  {
   "cell_type": "code",
   "execution_count": 3,
   "id": "experimental-shuttle",
   "metadata": {},
   "outputs": [],
   "source": [
    "dc = domains.load_data()"
   ]
  },
  {
   "cell_type": "markdown",
   "id": "great-clarity",
   "metadata": {},
   "source": [
    "# Working with the data\n",
    "\n",
    "## Load IETF archive data\n",
    "\n",
    "We start by loading the IETF archive data."
   ]
  },
  {
   "cell_type": "code",
   "execution_count": 4,
   "id": "applicable-space",
   "metadata": {},
   "outputs": [],
   "source": [
    "number = r\"^[0-9]\""
   ]
  },
  {
   "cell_type": "code",
   "execution_count": 5,
   "id": "changing-fellow",
   "metadata": {},
   "outputs": [
    {
     "name": "stdout",
     "output_type": "stream",
     "text": [
      "smime: Error tokenizing data. C error: Buffer overflow caught - possible malformed input file.\n",
      "\n"
     ]
    }
   ],
   "source": [
    "arxs = {}\n",
    "\n",
    "for file in os.listdir(CONFIG.mail_path):\n",
    "    if file.endswith(\".csv\") and not re.match(number, file):\n",
    "        name = file[:-4]\n",
    "        try:\n",
    "            arxs[name] = Archive(name)\n",
    "        except Exception as e:\n",
    "            print(name + \": \" + str(e))"
   ]
  },
  {
   "cell_type": "code",
   "execution_count": 6,
   "id": "stock-motor",
   "metadata": {},
   "outputs": [
    {
     "name": "stdout",
     "output_type": "stream",
     "text": [
      "Total number of Archives: 22\n"
     ]
    }
   ],
   "source": [
    "print(\"Total number of Archives: \" + str(len(arxs)))"
   ]
  },
  {
   "cell_type": "markdown",
   "id": "covered-consent",
   "metadata": {},
   "source": [
    "## Combine email data\n",
    "\n",
    "Collect information about the senders from each mailing list."
   ]
  },
  {
   "cell_type": "code",
   "execution_count": 7,
   "id": "separate-ensemble",
   "metadata": {},
   "outputs": [],
   "source": [
    "def senders(arx):\n",
    "    emails = arx.data['From'].apply(domain.extract_email)\n",
    "    domains = arx.data['From'].apply(domain.extract_domain)\n",
    "    froms = pd.concat([arx.data['From'], emails, domains], axis=1, keys=['From','email','domain'])\n",
    "    \n",
    "    return froms"
   ]
  },
  {
   "cell_type": "code",
   "execution_count": 8,
   "id": "welcome-chance",
   "metadata": {},
   "outputs": [],
   "source": [
    "wg_senders = {wg : senders(arxs[wg]) for wg in arxs}"
   ]
  },
  {
   "cell_type": "markdown",
   "id": "impressed-nigeria",
   "metadata": {},
   "source": [
    "## Explore the data\n",
    "\n",
    "We are going to start with using statistics from the global corpus of data. To combine the data from each working group into one DataFrame."
   ]
  },
  {
   "cell_type": "code",
   "execution_count": 9,
   "id": "continuing-ebony",
   "metadata": {},
   "outputs": [],
   "source": [
    "def add_wg_row(df, wg):\n",
    "    df2 = df.copy()\n",
    "    df2['wg'] = wg\n",
    "    \n",
    "    return df2\n",
    "\n",
    "all_senders = pd.concat([add_wg_row(wg_senders[wg], wg) for wg in wg_senders])"
   ]
  },
  {
   "cell_type": "markdown",
   "id": "sitting-teach",
   "metadata": {},
   "source": [
    "Each email domain participates in some number of working groups. It also contains some number of unique email addresses. Just to get a sense of the variety, we will look at and compare these two distributions."
   ]
  },
  {
   "cell_type": "code",
   "execution_count": 10,
   "id": "developmental-pollution",
   "metadata": {},
   "outputs": [
    {
     "data": {
      "text/plain": [
       "<AxesSubplot:xlabel='domain'>"
      ]
     },
     "execution_count": 10,
     "metadata": {},
     "output_type": "execute_result"
    },
    {
     "data": {
      "image/png": "[encoded data removed]",
      "text/plain": [
       "<Figure size 432x288 with 1 Axes>"
      ]
     },
     "metadata": {
      "needs_background": "light"
     },
     "output_type": "display_data"
    }
   ],
   "source": [
    "all_senders.groupby('domain').size().sort_values(ascending=False).plot(loglog = True)"
   ]
  },
  {
   "cell_type": "code",
   "execution_count": 11,
   "id": "assisted-apartment",
   "metadata": {},
   "outputs": [
    {
     "name": "stdout",
     "output_type": "stream",
     "text": [
      "Calculating best minimal value for power law fit\n",
      "xmin progress: 00%\r",
      "xmin progress: 00%\r",
      "xmin progress: 01%\r",
      "xmin progress: 02%\r",
      "xmin progress: 02%\r",
      "xmin progress: 03%\r",
      "xmin progress: 04%\r",
      "xmin progress: 05%\r",
      "xmin progress: 05%\r",
      "xmin progress: 06%\r",
      "xmin progress: 07%\r",
      "xmin progress: 08%\r",
      "xmin progress: 08%\r",
      "xmin progress: 09%\r",
      "xmin progress: 10%\r",
      "xmin progress: 11%\r",
      "xmin progress: 11%\r",
      "xmin progress: 12%\r",
      "xmin progress: 13%\r",
      "xmin progress: 14%\r",
      "xmin progress: 14%\r",
      "xmin progress: 15%\r",
      "xmin progress: 16%\r",
      "xmin progress: 17%\r",
      "xmin progress: 17%\r",
      "xmin progress: 18%\r",
      "xmin progress: 19%\r",
      "xmin progress: 20%\r",
      "xmin progress: 20%\r",
      "xmin progress: 21%\r",
      "xmin progress: 22%\r",
      "xmin progress: 22%\r",
      "xmin progress: 23%\r",
      "xmin progress: 24%\r",
      "xmin progress: 25%\r",
      "xmin progress: 25%\r",
      "xmin progress: 26%\r",
      "xmin progress: 27%\r",
      "xmin progress: 28%\r",
      "xmin progress: 28%\r",
      "xmin progress: 29%\r",
      "xmin progress: 30%\r",
      "xmin progress: 31%\r",
      "xmin progress: 31%\r",
      "xmin progress: 32%\r",
      "xmin progress: 33%\r",
      "xmin progress: 34%\r",
      "xmin progress: 34%\r",
      "xmin progress: 35%\r",
      "xmin progress: 36%\r",
      "xmin progress: 37%\r",
      "xmin progress: 37%\r",
      "xmin progress: 38%\r",
      "xmin progress: 39%\r",
      "xmin progress: 40%\r",
      "xmin progress: 40%\r",
      "xmin progress: 41%\r",
      "xmin progress: 42%\r",
      "xmin progress: 42%\r",
      "xmin progress: 43%\r",
      "xmin progress: 44%\r",
      "xmin progress: 45%\r",
      "xmin progress: 45%\r",
      "xmin progress: 46%\r",
      "xmin progress: 47%\r",
      "xmin progress: 48%\r",
      "xmin progress: 48%\r",
      "xmin progress: 49%\r",
      "xmin progress: 50%\r",
      "xmin progress: 51%\r",
      "xmin progress: 51%\r",
      "xmin progress: 52%\r",
      "xmin progress: 53%\r",
      "xmin progress: 54%\r",
      "xmin progress: 54%\r",
      "xmin progress: 55%\r",
      "xmin progress: 56%\r",
      "xmin progress: 57%\r",
      "xmin progress: 57%\r",
      "xmin progress: 58%\r",
      "xmin progress: 59%\r",
      "xmin progress: 60%\r",
      "xmin progress: 60%\r",
      "xmin progress: 61%\r",
      "xmin progress: 62%\r",
      "xmin progress: 62%\r",
      "xmin progress: 63%\r",
      "xmin progress: 64%\r",
      "xmin progress: 65%\r",
      "xmin progress: 65%\r",
      "xmin progress: 66%\r",
      "xmin progress: 67%\r",
      "xmin progress: 68%\r",
      "xmin progress: 68%\r",
      "xmin progress: 69%\r",
      "xmin progress: 70%\r",
      "xmin progress: 71%\r",
      "xmin progress: 71%\r",
      "xmin progress: 72%\r",
      "xmin progress: 73%\r",
      "xmin progress: 74%\r",
      "xmin progress: 74%\r",
      "xmin progress: 75%\r",
      "xmin progress: 76%\r",
      "xmin progress: 77%\r",
      "xmin progress: 77%\r",
      "xmin progress: 78%\r",
      "xmin progress: 79%\r",
      "xmin progress: 80%\r",
      "xmin progress: 80%\r",
      "xmin progress: 81%\r",
      "xmin progress: 82%\r",
      "xmin progress: 82%\r",
      "xmin progress: 83%\r",
      "xmin progress: 84%\r",
      "xmin progress: 85%\r",
      "xmin progress: 85%\r",
      "xmin progress: 86%\r",
      "xmin progress: 87%\r",
      "xmin progress: 88%\r",
      "xmin progress: 88%\r",
      "xmin progress: 89%\r",
      "xmin progress: 90%\r",
      "xmin progress: 91%\r",
      "xmin progress: 91%\r",
      "xmin progress: 92%\r",
      "xmin progress: 93%\r",
      "xmin progress: 94%\r",
      "xmin progress: 94%\r",
      "xmin progress: 95%\r",
      "xmin progress: 96%\r",
      "xmin progress: 97%\r",
      "xmin progress: 97%\r",
      "xmin progress: 98%\r",
      "xmin progress: 99%\r",
      "1.8760620671159431\n",
      "4.0\n",
      "-1.380039235417687 0.16757456470640641\n"
     ]
    },
    {
     "name": "stderr",
     "output_type": "stream",
     "text": [
      "/home/sb/projects/bigbang/bigbang-env/lib/python3.9/site-packages/powerlaw.py:1615: RuntimeWarning: invalid value encountered in true_divide\n",
      "  CDF = CDF/norm\n",
      "'nan' in fit cumulative distribution values.\n",
      "Likely underflow or overflow error: the optimal fit for this distribution gives values that are so extreme that we lack the numerical precision to calculate them.\n"
     ]
    }
   ],
   "source": [
    "data = all_senders.groupby('domain').size().values # data can be list or numpy array\n",
    "results = powerlaw.Fit(data)\n",
    "print(results.power_law.alpha)\n",
    "print(results.power_law.xmin)\n",
    "\n",
    "R, p = results.distribution_compare('power_law', 'lognormal', normalized_ratio=True)\n",
    "print(R, p)"
   ]
  },
  {
   "cell_type": "code",
   "execution_count": 12,
   "id": "exterior-quality",
   "metadata": {},
   "outputs": [
    {
     "data": {
      "text/plain": [
       "<AxesSubplot:xlabel='wg'>"
      ]
     },
     "execution_count": 12,
     "metadata": {},
     "output_type": "execute_result"
    },
    {
     "data": {
      "image/png": "[encoded data removed]",
      "text/plain": [
       "<Figure size 432x288 with 1 Axes>"
      ]
     },
     "metadata": {
      "needs_background": "light"
     },
     "output_type": "display_data"
    }
   ],
   "source": [
    "all_senders.groupby('wg').size().sort_values(ascending=False).plot(loglog = True)"
   ]
  },
  {
   "cell_type": "code",
   "execution_count": 13,
   "id": "mediterranean-pepper",
   "metadata": {},
   "outputs": [
    {
     "name": "stdout",
     "output_type": "stream",
     "text": [
      "Calculating best minimal value for power law fit\n",
      "xmin progress: 00%\r",
      "xmin progress: 04%\r",
      "xmin progress: 09%\r",
      "xmin progress: 14%\r",
      "xmin progress: 19%\r",
      "xmin progress: 23%\r",
      "xmin progress: 28%\r",
      "xmin progress: 33%\r",
      "xmin progress: 38%\r",
      "xmin progress: 42%\r",
      "xmin progress: 47%\r",
      "xmin progress: 52%\r",
      "xmin progress: 57%\r",
      "xmin progress: 61%\r",
      "xmin progress: 66%\r",
      "xmin progress: 71%\r",
      "xmin progress: 76%\r",
      "xmin progress: 80%\r",
      "xmin progress: 85%\r",
      "xmin progress: 90%\r",
      "xmin progress: 95%\r",
      "2.156740729188253\n",
      "1187.0\n",
      "-0.4965074557791221 0.6195364283637528\n"
     ]
    }
   ],
   "source": [
    "data = all_senders.groupby('wg').size().values # data can be list or numpy array\n",
    "results = powerlaw.Fit(data)\n",
    "print(results.power_law.alpha)\n",
    "print(results.power_law.xmin)\n",
    "\n",
    "R, p = results.distribution_compare('power_law', 'lognormal', normalized_ratio=True)\n",
    "print(R, p)"
   ]
  },
  {
   "cell_type": "code",
   "execution_count": 14,
   "id": "fitting-rapid",
   "metadata": {},
   "outputs": [
    {
     "data": {
      "image/png": "[encoded data removed]",
      "text/plain": [
       "<Figure size 432x288 with 1 Axes>"
      ]
     },
     "metadata": {
      "needs_background": "light"
     },
     "output_type": "display_data"
    }
   ],
   "source": [
    "x = all_senders.groupby('domain')['email'].unique().apply(len)\n",
    "y = all_senders.groupby('domain')['wg'].unique().apply(len)\n",
    "\n",
    "import matplotlib.pyplot as plt\n",
    "\n",
    "fig = plt.figure()\n",
    "ax = plt.gca()\n",
    "ax.scatter(x, y, c='blue', alpha=0.05, edgecolors='none')\n",
    "ax.set_xlabel('unique emails')\n",
    "ax.set_xlabel('unique wgs')\n",
    "ax.set_yscale('log')\n",
    "ax.set_xscale('log')"
   ]
  },
  {
   "cell_type": "markdown",
   "id": "representative-bumper",
   "metadata": {},
   "source": [
    "## Compute more domain statistics\n",
    "\n",
    "We will now compute more summary statistics for each domain."
   ]
  },
  {
   "cell_type": "code",
   "execution_count": 15,
   "id": "upper-realtor",
   "metadata": {},
   "outputs": [
    {
     "data": {
      "text/plain": [
       "domain\n",
       "001sm.com            0.693147\n",
       "002ranch.com         0.693147\n",
       "004.com              0.693147\n",
       "007mundo.com         0.693147\n",
       "007names.com         0.693147\n",
       "                       ...   \n",
       "zusammenkunft.net    0.693147\n",
       "zwallet.com          1.386294\n",
       "zxascom.com          0.693147\n",
       "zytrax.com           0.693147\n",
       "zzz.com              0.693147\n",
       "Name: wg, Length: 12453, dtype: float64"
      ]
     },
     "execution_count": 15,
     "metadata": {},
     "output_type": "execute_result"
    }
   ],
   "source": [
    "domain_unique_emails = all_senders.groupby('domain')['email'].apply(lambda g : np.log1p(g.unique().size))\n",
    "domain_unique_wgs = all_senders.groupby('domain')['wg'].apply(lambda g : np.log1p(g.unique().size))\n",
    "domain_unique_wgs"
   ]
  },
  {
   "cell_type": "code",
   "execution_count": 16,
   "id": "vocational-soviet",
   "metadata": {},
   "outputs": [],
   "source": [
    "domain_means = all_senders.groupby('domain')['email'].apply(lambda g : g.value_counts().mean())\n",
    "domain_stds = all_senders.groupby('domain')['email'].apply(lambda g : g.value_counts().std())\n",
    "domain_means_log = np.log1p(domain_means)\n",
    "domain_medians = all_senders.groupby('domain')['email'].apply(lambda g : g.value_counts().median())\n",
    "domain_medians_log = np.log1p(domain_medians)\n",
    "domain_max = all_senders.groupby('domain')['email'].apply(lambda g : g.value_counts().max())\n",
    "domain_max_log = np.log1p(domain_max)"
   ]
  },
  {
   "cell_type": "code",
   "execution_count": 17,
   "id": "hearing-static",
   "metadata": {},
   "outputs": [],
   "source": [
    "df = pd.DataFrame(data = {\n",
    "    'n_e' : domain_unique_emails, \n",
    "    'n_w' : domain_unique_wgs,\n",
    "    'log_mean' : domain_means_log,\n",
    "    'log_median' : domain_medians_log, \n",
    "    'log_max' : domain_max_log,\n",
    "    'nstd' : domain_stds.fillna(0) / domain_means\n",
    "})"
   ]
  },
  {
   "cell_type": "code",
   "execution_count": 18,
   "id": "40a000b5",
   "metadata": {},
   "outputs": [
    {
     "data": {
      "text/plain": [
       "'generic'"
      ]
     },
     "execution_count": 18,
     "metadata": {},
     "output_type": "execute_result"
    }
   ],
   "source": [
    "dc['category'].at['gmail.com']"
   ]
  },
  {
   "cell_type": "markdown",
   "id": "colored-auction",
   "metadata": {},
   "source": [
    "And add the category labels if known."
   ]
  },
  {
   "cell_type": "code",
   "execution_count": 19,
   "id": "considered-murray",
   "metadata": {},
   "outputs": [],
   "source": [
    "def categorize_domain(d):\n",
    "    try:\n",
    "        return dc['category'].at['gmail.com']\n",
    "    except Exception as e:\n",
    "        return None\n",
    "\n",
    "labels = pd.Series(data = df.index, index = df.index).apply(categorize_domain)\n",
    "\n",
    "df['labels'] = labels"
   ]
  },
  {
   "cell_type": "markdown",
   "id": "anonymous-mailing",
   "metadata": {},
   "source": [
    "A little data cleaning...."
   ]
  },
  {
   "cell_type": "code",
   "execution_count": 20,
   "id": "spatial-blair",
   "metadata": {},
   "outputs": [],
   "source": [
    "df = df[df['log_mean'] > 0.0]"
   ]
  },
  {
   "cell_type": "code",
   "execution_count": 21,
   "id": "structured-thailand",
   "metadata": {},
   "outputs": [
    {
     "data": {
      "text/html": [
       "<div>\n",
       "<style scoped>\n",
       "    .dataframe tbody tr th:only-of-type {\n",
       "        vertical-align: middle;\n",
       "    }\n",
       "\n",
       "    .dataframe tbody tr th {\n",
       "        vertical-align: top;\n",
       "    }\n",
       "\n",
       "    .dataframe thead th {\n",
       "        text-align: right;\n",
       "    }\n",
       "</style>\n",
       "<table border=\"1\" class=\"dataframe\">\n",
       "  <thead>\n",
       "    <tr style=\"text-align: right;\">\n",
       "      <th></th>\n",
       "      <th>n_e</th>\n",
       "      <th>n_w</th>\n",
       "      <th>log_mean</th>\n",
       "      <th>log_median</th>\n",
       "      <th>log_max</th>\n",
       "      <th>nstd</th>\n",
       "      <th>labels</th>\n",
       "    </tr>\n",
       "    <tr>\n",
       "      <th>domain</th>\n",
       "      <th></th>\n",
       "      <th></th>\n",
       "      <th></th>\n",
       "      <th></th>\n",
       "      <th></th>\n",
       "      <th></th>\n",
       "      <th></th>\n",
       "    </tr>\n",
       "  </thead>\n",
       "  <tbody>\n",
       "    <tr>\n",
       "      <th>001sm.com</th>\n",
       "      <td>0.693147</td>\n",
       "      <td>0.693147</td>\n",
       "      <td>0.693147</td>\n",
       "      <td>0.693147</td>\n",
       "      <td>0.693147</td>\n",
       "      <td>0.0</td>\n",
       "      <td>generic</td>\n",
       "    </tr>\n",
       "    <tr>\n",
       "      <th>002ranch.com</th>\n",
       "      <td>0.693147</td>\n",
       "      <td>0.693147</td>\n",
       "      <td>0.693147</td>\n",
       "      <td>0.693147</td>\n",
       "      <td>0.693147</td>\n",
       "      <td>0.0</td>\n",
       "      <td>generic</td>\n",
       "    </tr>\n",
       "    <tr>\n",
       "      <th>004.com</th>\n",
       "      <td>0.693147</td>\n",
       "      <td>0.693147</td>\n",
       "      <td>0.693147</td>\n",
       "      <td>0.693147</td>\n",
       "      <td>0.693147</td>\n",
       "      <td>0.0</td>\n",
       "      <td>generic</td>\n",
       "    </tr>\n",
       "    <tr>\n",
       "      <th>007mundo.com</th>\n",
       "      <td>0.693147</td>\n",
       "      <td>0.693147</td>\n",
       "      <td>0.693147</td>\n",
       "      <td>0.693147</td>\n",
       "      <td>0.693147</td>\n",
       "      <td>0.0</td>\n",
       "      <td>generic</td>\n",
       "    </tr>\n",
       "    <tr>\n",
       "      <th>007names.com</th>\n",
       "      <td>0.693147</td>\n",
       "      <td>0.693147</td>\n",
       "      <td>0.693147</td>\n",
       "      <td>0.693147</td>\n",
       "      <td>0.693147</td>\n",
       "      <td>0.0</td>\n",
       "      <td>generic</td>\n",
       "    </tr>\n",
       "  </tbody>\n",
       "</table>\n",
       "</div>"
      ],
      "text/plain": [
       "                   n_e       n_w  log_mean  log_median   log_max  nstd  \\\n",
       "domain                                                                   \n",
       "001sm.com     0.693147  0.693147  0.693147    0.693147  0.693147   0.0   \n",
       "002ranch.com  0.693147  0.693147  0.693147    0.693147  0.693147   0.0   \n",
       "004.com       0.693147  0.693147  0.693147    0.693147  0.693147   0.0   \n",
       "007mundo.com  0.693147  0.693147  0.693147    0.693147  0.693147   0.0   \n",
       "007names.com  0.693147  0.693147  0.693147    0.693147  0.693147   0.0   \n",
       "\n",
       "               labels  \n",
       "domain                 \n",
       "001sm.com     generic  \n",
       "002ranch.com  generic  \n",
       "004.com       generic  \n",
       "007mundo.com  generic  \n",
       "007names.com  generic  "
      ]
     },
     "execution_count": 21,
     "metadata": {},
     "output_type": "execute_result"
    }
   ],
   "source": [
    "df.head()"
   ]
  },
  {
   "cell_type": "code",
   "execution_count": null,
   "id": "af3ce001",
   "metadata": {},
   "outputs": [],
   "source": []
  },
  {
   "cell_type": "code",
   "execution_count": 22,
   "id": "suspended-genesis",
   "metadata": {},
   "outputs": [
    {
     "name": "stdout",
     "output_type": "stream",
     "text": [
      "generic\n",
      "personal\n",
      "company\n",
      "academic\n",
      "sdo\n"
     ]
    },
    {
     "data": {
      "text/plain": [
       "<matplotlib.legend.Legend at 0x7fd4a2b76df0>"
      ]
     },
     "execution_count": 22,
     "metadata": {},
     "output_type": "execute_result"
    },
    {
     "data": {
      "image/png": "[encoded data removed]",
      "text/plain": [
       "<Figure size 576x576 with 1 Axes>"
      ]
     },
     "metadata": {
      "needs_background": "light"
     },
     "output_type": "display_data"
    }
   ],
   "source": [
    "fig = plt.figure(figsize=(8,8))\n",
    "ax = plt.gca()\n",
    "ax.plot(df['log_median'], df['nstd'], 'o', c='yellow', alpha=0.02)\n",
    "\n",
    "colors = ['red', 'magenta', 'green', 'blue', 'black', 'cyan', 'orange']\n",
    "\n",
    "for i, group in enumerate(dc['category'].unique()):\n",
    "    print(group)\n",
    "    group_idx = set(df.index).intersection(set(dc[dc['category'] == group].index))\n",
    "    gdf = df.loc[group_idx, :]\n",
    "    ax.plot(gdf['log_median'], gdf['nstd'], '+', c=colors[i], alpha=0.5, label = group)\n",
    "\n",
    "ax.set_xlabel('Log Median')\n",
    "ax.set_ylabel('Normalized Standard Deviation')\n",
    "ax.set_yscale('log')\n",
    "ax.set_xscale('log')\n",
    "\n",
    "ax.set_title('Statistics of Email Domain Distributions')\n",
    "\n",
    "ax.set_ylim([0.1,10])\n",
    "\n",
    "ax.legend()\n",
    "\n"
   ]
  },
  {
   "cell_type": "markdown",
   "id": "bibliographic-content",
   "metadata": {},
   "source": [
    "There is some evidence to say that different categories of email domains are distinguishable based on properties of their email distributions. \n",
    "\n",
    "A next step is to build and test and automated classifier and test the results."
   ]
  }
 ],
 "metadata": {
  "kernelspec": {
   "display_name": "bigbang-env",
   "language": "python",
   "name": "bigbang-env"
  },
  "language_info": {
   "codemirror_mode": {
    "name": "ipython",
    "version": 3
   },
   "file_extension": ".py",
   "mimetype": "text/x-python",
   "name": "python",
   "nbconvert_exporter": "python",
   "pygments_lexer": "ipython3",
   "version": "3.9.5"
  },
  "latex_envs": {
   "LaTeX_envs_menu_present": true,
   "autoclose": false,
   "autocomplete": true,
   "bibliofile": "biblio.bib",
   "cite_by": "apalike",
   "current_citInitial": 1,
   "eqLabelWithNumbers": true,
   "eqNumInitial": 1,
   "hotkeys": {
    "equation": "Ctrl-E",
    "itemize": "Ctrl-I"
   },
   "labels_anchors": false,
   "latex_user_defs": false,
   "report_style_numbering": false,
   "user_envs_cfg": false
  },
  "toc": {
   "base_numbering": 1,
   "nav_menu": {},
   "number_sections": true,
   "sideBar": true,
   "skip_h1_title": false,
   "title_cell": "Table of Contents",
   "title_sidebar": "Contents",
   "toc_cell": false,
   "toc_position": {},
   "toc_section_display": true,
   "toc_window_display": false
  }
 },
 "nbformat": 4,
 "nbformat_minor": 5
}
